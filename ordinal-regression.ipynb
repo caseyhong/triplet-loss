{
 "cells": [
  {
   "cell_type": "code",
   "execution_count": 1,
   "id": "ee943c16",
   "metadata": {},
   "outputs": [],
   "source": [
    "%load_ext autoreload\n",
    "%autoreload 2"
   ]
  },
  {
   "cell_type": "code",
   "execution_count": 2,
   "id": "b5826137",
   "metadata": {},
   "outputs": [],
   "source": [
    "import pandas as pd\n",
    "import numpy as np\n",
    "from sklearn.model_selection import train_test_split\n",
    "import wandb\n",
    "from datetime import datetime\n",
    "import time\n",
    "from tqdm import tqdm\n",
    "import os\n",
    "import os.path as osp\n",
    "\n",
    "from transformers import AutoTokenizer, AutoModel, DataCollatorWithPadding, get_linear_schedule_with_warmup\n",
    "import torch\n",
    "import torch.nn as nn\n",
    "import torch.nn.functional as F\n",
    "from torch.utils.data import Dataset, DataLoader"
   ]
  },
  {
   "cell_type": "code",
   "execution_count": 3,
   "id": "e29d7dda",
   "metadata": {},
   "outputs": [],
   "source": [
    "MODEL = \"bert-base-uncased\"\n",
    "BATCH_SIZE = 16\n",
    "NUM_EPOCHS = 30\n",
    "LEARNING_RATE = 1e-5\n",
    "RANDOM_SEED = 12345\n",
    "DEVICE = torch.device(\"cuda\" if torch.cuda.is_available() else \"cpu\")\n",
    "pdate = datetime.now().strftime(\"%Y-%m-%d_%H-%M-%S\") # for naming\n",
    "print(f\"device: {DEVICE}\")"
   ]
  },
  {
   "cell_type": "code",
   "execution_count": 22,
   "id": "dc974fab",
   "metadata": {},
   "outputs": [
    {
     "name": "stdout",
     "output_type": "stream",
     "text": [
      "num_classes: 345\n"
     ]
    }
   ],
   "source": [
    "df = pd.read_pickle(\"train/seq2reply_regression_data.pickle\")\n",
    "df = df.loc[df.clean_text.notnull()]\n",
    "NUM_CLASSES = max(df.num_replies.unique()) + 1\n",
    "print(f\"num_classes: {NUM_CLASSES}\")"
   ]
  },
  {
   "cell_type": "code",
   "execution_count": 5,
   "id": "4487feea",
   "metadata": {},
   "outputs": [],
   "source": [
    "class OrdinalUfoDataset(torch.utils.data.Dataset):\n",
    "    def __init__(self, X, y, tokenizer, num_classes):\n",
    "        self.encodings = tokenizer(X.tolist(), truncation=True)\n",
    "        self.labels = y.tolist()\n",
    "        self.num_classes = num_classes\n",
    "\n",
    "    def __getitem__(self, index):\n",
    "        item = {key: torch.tensor(val[index]) for key, val in self.encodings.items()}\n",
    "        label = self.labels[index]\n",
    "        item[\"labels\"] = torch.tensor(label)\n",
    "        levels = [1] * label + [0] * (self.num_classes - 1 - label)\n",
    "        item[\"levels\"] = torch.tensor(levels, dtype=torch.float32)\n",
    "        return item\n",
    "\n",
    "    def __len__(self):\n",
    "        return len(self.labels)"
   ]
  },
  {
   "cell_type": "code",
   "execution_count": 6,
   "id": "dbb58532",
   "metadata": {},
   "outputs": [],
   "source": [
    "# split the data\n",
    "X_train, X_test, y_train, y_test = train_test_split(\n",
    "    df.clean_text,\n",
    "    df.num_replies.astype(\"int16\"),\n",
    "    test_size=0.2,\n",
    "    random_state=RANDOM_SEED,\n",
    ")\n",
    "X_train, X_val, y_train, y_val = train_test_split(\n",
    "    X_train, y_train, test_size=0.2, random_state=RANDOM_SEED\n",
    ")\n",
    "\n",
    "# initialize tokenizer\n",
    "tokenizer = AutoTokenizer.from_pretrained(MODEL)\n",
    "\n",
    "# initialize datasets\n",
    "train_dataset = OrdinalUfoDataset(X_train, y_train, tokenizer, NUM_CLASSES)\n",
    "val_dataset = OrdinalUfoDataset(X_val, y_val, tokenizer, NUM_CLASSES)\n",
    "test_dataset = OrdinalUfoDataset(X_test, y_test, tokenizer, NUM_CLASSES)\n",
    "\n",
    "# initialize data collator\n",
    "data_collator = DataCollatorWithPadding(\n",
    "    tokenizer=tokenizer, padding=\"longest\", return_tensors=\"pt\"\n",
    ")\n",
    "\n",
    "# initialize dataloaders\n",
    "train_loader = DataLoader(\n",
    "    dataset=train_dataset, collate_fn=data_collator, batch_size=BATCH_SIZE, shuffle=True\n",
    ")\n",
    "val_loader = DataLoader(\n",
    "    dataset=val_dataset, collate_fn=data_collator, batch_size=BATCH_SIZE, shuffle=True\n",
    ")\n",
    "test_loader = DataLoader(\n",
    "    dataset=test_dataset, collate_fn=data_collator, batch_size=BATCH_SIZE, shuffle=True\n",
    ")"
   ]
  },
  {
   "cell_type": "code",
   "execution_count": 7,
   "id": "725ecb90",
   "metadata": {},
   "outputs": [],
   "source": [
    "class OrdinalRegressionBERT(nn.Module):\n",
    "    def __init__(self, bert, num_classes, dropout_rate=0.1):\n",
    "        super(OrdinalRegressionBERT, self).__init__()\n",
    "        self.num_classes = num_classes\n",
    "\n",
    "        self.bert = AutoModel.from_pretrained(bert)\n",
    "        self.dropout = nn.Dropout(p=dropout_rate)\n",
    "        self.fc = nn.Linear(768, 1, bias=False)\n",
    "        self.linear_1_bias = nn.Parameter(torch.zeros(self.num_classes - 1).float())\n",
    "\n",
    "    def forward(self, input_ids, attention_mask):\n",
    "        hidden = self.bert(input_ids=input_ids, attention_mask=attention_mask)[0]\n",
    "        x = hidden[:, 0]\n",
    "        x = self.dropout(x)\n",
    "        logits = self.fc(x)\n",
    "        logits = logits + self.linear_1_bias\n",
    "        probas = torch.sigmoid(logits)\n",
    "        return logits, probas"
   ]
  },
  {
   "cell_type": "code",
   "execution_count": 8,
   "id": "1260ce72",
   "metadata": {},
   "outputs": [],
   "source": [
    "def cost_fn(logits, levels, device):\n",
    "    imp = torch.ones(NUM_CLASSES-1, dtype=torch.float32).to(device) # task importance weights\n",
    "    val = (-torch.sum((F.logsigmoid(logits)*levels\n",
    "                      + (F.logsigmoid(logits) - logits)*(1-levels))*imp,\n",
    "           dim=1))\n",
    "    return torch.mean(val)"
   ]
  },
  {
   "cell_type": "code",
   "execution_count": null,
   "id": "c9e31f42",
   "metadata": {},
   "outputs": [],
   "source": [
    "def eval_metrics(model, data_loader, device):\n",
    "    mae, mse, num_examples = 0, 0, 0\n",
    "    for i, batch in enumerate(data_loader):\n",
    "        input_ids = batch[\"input_ids\"].to(device)\n",
    "        attention_mask = batch[\"attention_mask\"].to(device)\n",
    "        labels = batch[\"labels\"].to(device)\n",
    "        logits, probas = model(input_ids, attention_mask)\n",
    "        \n",
    "        predicted_labels = torch.sum(probas > 0.5, dim=1)\n",
    "        num_examples += labels.size(0)\n",
    "        \n",
    "        mae += torch.sum(torch.abs(predicted_labels - labels))\n",
    "        mse += torch.sum((predicted_labels - labels)**2)\n",
    "    mae = mae.float() / num_examples\n",
    "    mse = mse.float() / num_examples\n",
    "    return mae, mse"
   ]
  },
  {
   "cell_type": "code",
   "execution_count": null,
   "id": "2317ad1f",
   "metadata": {},
   "outputs": [],
   "source": [
    "model = OrdinalRegressionBERT(MODEL, NUM_CLASSES)\n",
    "model.to(DEVICE)\n",
    "optimizer = torch.optim.Adam(model.parameters(), lr=LEARNING_RATE)\n",
    "training_steps = int(len(train_loader) * NUM_EPOCHS)\n",
    "warmup_steps = int(0.1 * training_steps)\n",
    "scheduler = get_linear_schedule_with_warmup(optimizer, num_warmup_steps=warmup_steps, num_training_steps=training_steps)"
   ]
  },
  {
   "cell_type": "code",
   "execution_count": null,
   "id": "48c42193",
   "metadata": {},
   "outputs": [],
   "source": [
    "project_name = f\"BERT-FT-Ordinal-Regression-lr_warmup-{warmup_steps}-epochs-{NUM_EPOCHS}-{pdate}\"\n",
    "SAVE_PATH = osp.join(\"/output\", project_name) # for the docker volume\n",
    "os.makedirs(SAVE_PATH, exist_ok=True)\n",
    "wandb.init(project=project_name, entity=\"jisoo\")\n",
    "wandb.watch(model)"
   ]
  },
  {
   "cell_type": "code",
   "execution_count": 21,
   "id": "4e747f05",
   "metadata": {},
   "outputs": [
    {
     "name": "stdout",
     "output_type": "stream",
     "text": [
      "dict_keys(['input_ids', 'token_type_ids', 'attention_mask', 'labels', 'levels'])\n",
      "dict_keys(['input_ids', 'token_type_ids', 'attention_mask', 'labels', 'levels'])\n"
     ]
    }
   ],
   "source": [
    "start = time.time()\n",
    "best_mae, best_rmse, best_epoch = 999, 999, -1\n",
    "for epoch in range(NUM_EPOCHS):\n",
    "    model.train()\n",
    "    with tqdm(enumerate(train_loader), unit=\" batch\", total=len(train_loader)) as tepoch:\n",
    "        for i, batch in tepoch:\n",
    "            tepoch.set_description(f\"Epoch {epoch}\")\n",
    "            \n",
    "            input_ids = batch[\"input_ids\"].to(DEVICE)\n",
    "            attention_mask = batch[\"attention_mask\"].to(DEVICE)\n",
    "            levels = batch[\"levels\"].to(DEVICE)\n",
    "\n",
    "            # forward\n",
    "            logits, probas = model(input_ids, attention_mask)\n",
    "            cost = cost_fn(logits, levels, DEVICE)\n",
    "            optimizer.zero_grad()\n",
    "\n",
    "            # backward\n",
    "            cost.backward()\n",
    "            wandb.log({\"cost\": cost.item(), \"epoch\": epoch})\n",
    "\n",
    "            # update\n",
    "            optimizer.step()\n",
    "            scheduler.step()\n",
    "\n",
    "            # log\n",
    "            tepoch.set_postfix(cost=round(cost.item(),3))\n",
    "\n",
    "    model.eval()\n",
    "    with torch.set_grad_enabled(False):\n",
    "        val_mae, val_mse = eval_metrics(model, val_loader, device=DEVICE)\n",
    "        wandb.log({\"validation mae\": val_mae, \"validation mse\": val_mse, \"epoch\": epoch})\n",
    "        \n",
    "        if val_mae < best_mae:\n",
    "            best_mae, best_rmse, best_epoch = val_mae, torch.sqrt(val_mse), epoch\n",
    "            print(f\"best_mae: {val_mae}, best_rmse: {best_rmse}, epoch: {epoch}\")\n",
    "            ##### save model #####\n",
    "            ckpt_files = sorted([x for x in os.listdir(SAVE_PATH) if x.endswith(\".pt\")])\n",
    "            num_ckpt = len(ckpt_files)\n",
    "            if num_ckpt >= 3:\n",
    "                print(f\"Removing ckpt at {osp.join(SAVE_PATH, ckpt_files[0])}\")\n",
    "                os.remove(osp.join(SAVE_PATH, ckpt_files[0]))\n",
    "            print(f\"Saving ckpt at osp.join(SAVE_PATH, f\"model_checkpoint_{epoch}.pt\"))\n",
    "            torch.save(model.state_dict(), osp.join(SAVE_PATH, f\"model_checkpoint_{epoch}.pt\"))            "
   ]
  },
  {
   "cell_type": "code",
   "execution_count": null,
   "id": "835b5196",
   "metadata": {},
   "outputs": [],
   "source": [
    "print(f\"Time elapsed: {round(time.time()-start,2)}s\")"
   ]
  }
 ],
 "metadata": {
  "kernelspec": {
   "display_name": "stance",
   "language": "python",
   "name": "stance"
  },
  "language_info": {
   "codemirror_mode": {
    "name": "ipython",
    "version": 3
   },
   "file_extension": ".py",
   "mimetype": "text/x-python",
   "name": "python",
   "nbconvert_exporter": "python",
   "pygments_lexer": "ipython3",
   "version": "3.9.5"
  },
  "toc": {
   "base_numbering": 1,
   "nav_menu": {},
   "number_sections": true,
   "sideBar": true,
   "skip_h1_title": false,
   "title_cell": "Table of Contents",
   "title_sidebar": "Contents",
   "toc_cell": false,
   "toc_position": {},
   "toc_section_display": true,
   "toc_window_display": false
  },
  "varInspector": {
   "cols": {
    "lenName": 16,
    "lenType": 16,
    "lenVar": 40
   },
   "kernels_config": {
    "python": {
     "delete_cmd_postfix": "",
     "delete_cmd_prefix": "del ",
     "library": "var_list.py",
     "varRefreshCmd": "print(var_dic_list())"
    },
    "r": {
     "delete_cmd_postfix": ") ",
     "delete_cmd_prefix": "rm(",
     "library": "var_list.r",
     "varRefreshCmd": "cat(var_dic_list()) "
    }
   },
   "types_to_exclude": [
    "module",
    "function",
    "builtin_function_or_method",
    "instance",
    "_Feature"
   ],
   "window_display": false
  }
 },
 "nbformat": 4,
 "nbformat_minor": 5
}
