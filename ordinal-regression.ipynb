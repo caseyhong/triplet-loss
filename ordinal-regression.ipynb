{
 "cells": [
  {
   "cell_type": "code",
   "execution_count": 1,
   "id": "ee943c16",
   "metadata": {},
   "outputs": [],
   "source": [
    "%load_ext autoreload\n",
    "%autoreload 2"
   ]
  },
  {
   "cell_type": "code",
   "execution_count": 2,
   "id": "b5826137",
   "metadata": {},
   "outputs": [],
   "source": [
    "import pandas as pd\n",
    "import numpy as np\n",
    "from sklearn.model_selection import train_test_split\n",
    "from tqdm import tqdm\n",
    "\n",
    "from transformers import AutoTokenizer, AutoModel, DataCollatorWithPadding\n",
    "import torch\n",
    "import torch.nn as nn\n",
    "import torch.nn.functional as F\n",
    "from torch.utils.data import Dataset, DataLoader"
   ]
  },
  {
   "cell_type": "code",
   "execution_count": 3,
   "id": "e29d7dda",
   "metadata": {},
   "outputs": [],
   "source": [
    "MODEL = \"bert-base-uncased\"\n",
    "BATCH_SIZE = 16\n",
    "NUM_EPOCHS = 1\n",
    "LEARNING_RATE = 1e-5\n",
    "RANDOM_SEED = 12345\n",
    "DEVICE = torch.device(\"cuda\" if torch.cuda.is_available() else \"cpu\")\n",
    "print(DEVICE)"
   ]
  },
  {
   "cell_type": "code",
   "execution_count": 22,
   "id": "dc974fab",
   "metadata": {},
   "outputs": [
    {
     "name": "stdout",
     "output_type": "stream",
     "text": [
      "num_classes: 345\n"
     ]
    }
   ],
   "source": [
    "df = pd.read_pickle(\"train/seq2reply_regression_data.pickle\")\n",
    "df = df.loc[df.clean_text.notnull()]\n",
    "NUM_CLASSES = max(df.num_replies.unique()) + 1\n",
    "print(f\"num_classes: {NUM_CLASSES}\")"
   ]
  },
  {
   "cell_type": "code",
   "execution_count": 5,
   "id": "4487feea",
   "metadata": {},
   "outputs": [],
   "source": [
    "class OrdinalUfoDataset(torch.utils.data.Dataset):\n",
    "    def __init__(self, X, y, tokenizer, num_classes):\n",
    "        self.encodings = tokenizer(X.tolist(), truncation=True)\n",
    "        self.labels = y.tolist()\n",
    "        self.num_classes = num_classes\n",
    "\n",
    "    def __getitem__(self, index):\n",
    "        item = {key: torch.tensor(val[index]) for key, val in self.encodings.items()}\n",
    "        label = self.labels[index]\n",
    "        item[\"labels\"] = torch.tensor(label)\n",
    "        levels = [1] * label + [0] * (self.num_classes - 1 - label)\n",
    "        item[\"levels\"] = torch.tensor(levels, dtype=torch.float32)\n",
    "        return item\n",
    "\n",
    "    def __len__(self):\n",
    "        return len(self.labels)"
   ]
  },
  {
   "cell_type": "code",
   "execution_count": 6,
   "id": "dbb58532",
   "metadata": {},
   "outputs": [],
   "source": [
    "# split the data\n",
    "X_train, X_test, y_train, y_test = train_test_split(\n",
    "    df.clean_text,\n",
    "    df.num_replies.astype(\"int16\"),\n",
    "    test_size=0.2,\n",
    "    random_state=RANDOM_SEED,\n",
    ")\n",
    "X_train, X_val, y_train, y_val = train_test_split(\n",
    "    X_train, y_train, test_size=0.2, random_state=RANDOM_SEED\n",
    ")\n",
    "\n",
    "# initialize tokenizer\n",
    "tokenizer = AutoTokenizer.from_pretrained(MODEL)\n",
    "\n",
    "# initialize datasets\n",
    "train_dataset = OrdinalUfoDataset(X_train, y_train, tokenizer, NUM_CLASSES)\n",
    "val_dataset = OrdinalUfoDataset(X_val, y_val, tokenizer, NUM_CLASSES)\n",
    "test_dataset = OrdinalUfoDataset(X_test, y_test, tokenizer, NUM_CLASSES)\n",
    "\n",
    "# initialize data collator\n",
    "data_collator = DataCollatorWithPadding(\n",
    "    tokenizer=tokenizer, padding=\"longest\", return_tensors=\"pt\"\n",
    ")\n",
    "\n",
    "# initialize dataloaders\n",
    "train_loader = DataLoader(\n",
    "    dataset=train_dataset, collate_fn=data_collator, batch_size=BATCH_SIZE, shuffle=True\n",
    ")\n",
    "val_loader = DataLoader(\n",
    "    dataset=val_dataset, collate_fn=data_collator, batch_size=BATCH_SIZE, shuffle=True\n",
    ")\n",
    "test_loader = DataLoader(\n",
    "    dataset=test_dataset, collate_fn=data_collator, batch_size=BATCH_SIZE, shuffle=True\n",
    ")"
   ]
  },
  {
   "cell_type": "code",
   "execution_count": 7,
   "id": "725ecb90",
   "metadata": {},
   "outputs": [],
   "source": [
    "class OrdinalRegressionBERT(nn.Module):\n",
    "    def init(self, bert, num_classes, dropout_rate=0.1):\n",
    "        super(OrdNet, self).init()\n",
    "        self.num_classes = num_classes\n",
    "\n",
    "        self.bert = AutoModel.from_pretrained(bert)\n",
    "        self.dropout = nn.Dropout(p=dropout_rate)\n",
    "        self.fc = nn.Linear(768, 1, bias=False)\n",
    "        self.linear_1_bias = nn.Parameter(torch.zeros(self.num_classes - 1).float())\n",
    "\n",
    "    def forward(self, input_ids, attention_mask):\n",
    "        hidden = self.bert(input_ids=input_ids, attention_mask=attention_mask)[0]\n",
    "        print(f\"hidden shape: {hidden.shape}\")\n",
    "        x = hidden[:, 0]\n",
    "        print(f\"x shape: {x.shape}\")\n",
    "        x = self.dropout(x)\n",
    "        logits = self.fc(x)\n",
    "        print(f\"logits shape: {logits.shape}\")\n",
    "        logits = logits + self.linear_1_bias\n",
    "        probas = torch.sigmoid(logits)\n",
    "        return logits, probas"
   ]
  },
  {
   "cell_type": "code",
   "execution_count": 8,
   "id": "1260ce72",
   "metadata": {},
   "outputs": [],
   "source": [
    "def cost_fn(logits, levels, imp):\n",
    "    val = (-torch.sum((F.logsigmoid(logits)*levels\n",
    "                      + (F.logsigmoid(logits) - logits)*(1-levels))*imp,\n",
    "           dim=1))\n",
    "    return torch.mean(val)"
   ]
  },
  {
   "cell_type": "code",
   "execution_count": null,
   "id": "c9e31f42",
   "metadata": {},
   "outputs": [],
   "source": [
    "def eval_metrics(model, data_loader, device):\n",
    "    mae, mse, num_examples = 0, 0, 0\n",
    "    for i, (input_ids, _, attention_mask, labels, levels) in enumerate(data_loader):\n",
    "        input_ids = input_ids.to(device)\n",
    "        attention_mask = attention_mask.to(device)\n",
    "        logits, probas = model(input_ids, attention_mask)\n",
    "        \n",
    "        predicted_labels = torch.sum(probas > 0.5, dim=1)\n",
    "        num_examples += labels.size(0)\n",
    "        \n",
    "        mae += torch.sum(torch.abs(predicted_labels - labels))\n",
    "        mse += torch.sum((predicted_labels - targets)**2)\n",
    "    mae = mae.float() / num_examples\n",
    "    mse = mse.float() / num_examples\n",
    "    return mae, mse"
   ]
  },
  {
   "cell_type": "code",
   "execution_count": null,
   "id": "2317ad1f",
   "metadata": {},
   "outputs": [],
   "source": [
    "model = OrdinalRegressionBERT(MODEL, NUM_CLASSES)\n",
    "model.to(DEVICE)\n",
    "optimizer = torch.optim.Adam(model.parameters(), lr=LEARNING_RATE)\n",
    "imp = torch.ones(NUM_CLASSES-1, dtype=torch.float32) # task importance weights"
   ]
  },
  {
   "cell_type": "code",
   "execution_count": 21,
   "id": "4e747f05",
   "metadata": {},
   "outputs": [
    {
     "name": "stdout",
     "output_type": "stream",
     "text": [
      "dict_keys(['input_ids', 'token_type_ids', 'attention_mask', 'labels', 'levels'])\n",
      "dict_keys(['input_ids', 'token_type_ids', 'attention_mask', 'labels', 'levels'])\n"
     ]
    }
   ],
   "source": [
    "for epoch in range(NUM_EPOCHS):\n",
    "    model.train()\n",
    "    for batch_idx, (input_ids, _, attention_mask, labels, levels) in enumerate(\n",
    "        train_loader\n",
    "    ):\n",
    "        input_ids = input_ids.to(DEVICE)\n",
    "        attention_mask = attention_mask.to(DEVICE)\n",
    "        labels = labels.to(DEVICE)\n",
    "        levels = levels.to(DEVICE)\n",
    "\n",
    "        # forward\n",
    "        logits, probas = model(input_ids, attention_mask)\n",
    "        cost = cost_fn(logits, levels, imp)\n",
    "        optimizer.zero_grad()\n",
    "\n",
    "        # backward\n",
    "        cost.backward()\n",
    "\n",
    "        # update\n",
    "        optimizer.step()\n",
    "\n",
    "        # log\n",
    "        s = \"Epoch: %03d/%03d | Batch %04d/%04d | Cost: %.4f\" % (\n",
    "            epoch + 1,\n",
    "            num_epochs,\n",
    "            batch_idx,\n",
    "            len(train_dataset) // BATCH_SIZE,\n",
    "            cost,\n",
    "        )\n",
    "        print(s)\n",
    "\n",
    "    model.eval()\n",
    "    with torch.set_grad_enabled(False):\n",
    "        val_mae, val_mse = compute_mae_and_mse(model, val_loader, device=DEVICE)"
   ]
  },
  {
   "cell_type": "code",
   "execution_count": null,
   "id": "835b5196",
   "metadata": {},
   "outputs": [],
   "source": []
  }
 ],
 "metadata": {
  "kernelspec": {
   "display_name": "stance",
   "language": "python",
   "name": "stance"
  },
  "language_info": {
   "codemirror_mode": {
    "name": "ipython",
    "version": 3
   },
   "file_extension": ".py",
   "mimetype": "text/x-python",
   "name": "python",
   "nbconvert_exporter": "python",
   "pygments_lexer": "ipython3",
   "version": "3.9.5"
  },
  "toc": {
   "base_numbering": 1,
   "nav_menu": {},
   "number_sections": true,
   "sideBar": true,
   "skip_h1_title": false,
   "title_cell": "Table of Contents",
   "title_sidebar": "Contents",
   "toc_cell": false,
   "toc_position": {},
   "toc_section_display": true,
   "toc_window_display": false
  },
  "varInspector": {
   "cols": {
    "lenName": 16,
    "lenType": 16,
    "lenVar": 40
   },
   "kernels_config": {
    "python": {
     "delete_cmd_postfix": "",
     "delete_cmd_prefix": "del ",
     "library": "var_list.py",
     "varRefreshCmd": "print(var_dic_list())"
    },
    "r": {
     "delete_cmd_postfix": ") ",
     "delete_cmd_prefix": "rm(",
     "library": "var_list.r",
     "varRefreshCmd": "cat(var_dic_list()) "
    }
   },
   "types_to_exclude": [
    "module",
    "function",
    "builtin_function_or_method",
    "instance",
    "_Feature"
   ],
   "window_display": false
  }
 },
 "nbformat": 4,
 "nbformat_minor": 5
}
